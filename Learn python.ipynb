{
 "cells": [
  {
   "cell_type": "code",
   "execution_count": 2,
   "id": "a8258ef6-c8ee-46e0-89d6-701e42795f8a",
   "metadata": {},
   "outputs": [
    {
     "name": "stdout",
     "output_type": "stream",
     "text": [
      "3.11.7 | packaged by Anaconda, Inc. | (main, Dec 15 2023, 18:05:47) [MSC v.1916 64 bit (AMD64)]\n"
     ]
    }
   ],
   "source": [
    "#checking python version\n",
    "import sys\n",
    "print(sys.version)"
   ]
  },
  {
   "cell_type": "code",
   "execution_count": 11,
   "id": "233e9c38-2c75-45f4-9495-255559c870d8",
   "metadata": {},
   "outputs": [
    {
     "name": "stdout",
     "output_type": "stream",
     "text": [
      "Five is greater than two!\n",
      "Five is greater than me!\n"
     ]
    }
   ],
   "source": [
    "#python indentication (python uses identication to indicate a block of codes)\n",
    "if 5 > 2:\n",
    "     print(\"Five is greater than two!\")\n",
    "     print(\"Five is greater than me!\")"
   ]
  },
  {
   "cell_type": "code",
   "execution_count": 17,
   "id": "64a683f2-621a-4c67-9479-3339d33344e9",
   "metadata": {},
   "outputs": [
    {
     "name": "stdout",
     "output_type": "stream",
     "text": [
      "5\n",
      "Stanley Mugo Gicharu\n"
     ]
    }
   ],
   "source": [
    "# Variables (variables are created where you assign a value to it)\n",
    "x = 5\n",
    "y=\"Stanley Mugo Gicharu\"\n",
    "print (x)\n",
    "print (y)"
   ]
  },
  {
   "cell_type": "code",
   "execution_count": 19,
   "id": "7c959dc5-c8f5-466b-aa4d-27c1c97b9766",
   "metadata": {},
   "outputs": [
    {
     "name": "stdout",
     "output_type": "stream",
     "text": [
      "Hello world\n"
     ]
    }
   ],
   "source": [
    "#Comments (Used for the purpose of in-code documnetation)\n",
    "#Comments can be used to explain Python code.\n",
    "#Comments can be used to make the code more readable.\n",
    "#Comments can be used to prevent execution when testing code.\n",
    "#every one have done this\n",
    "print (\"Hello world\")"
   ]
  },
  {
   "cell_type": "code",
   "execution_count": 20,
   "id": "0d58ffbd-8e9e-4db8-b734-e91df99cac32",
   "metadata": {},
   "outputs": [
    {
     "name": "stdout",
     "output_type": "stream",
     "text": [
      "I love maths\n"
     ]
    }
   ],
   "source": [
    "#comments continuation\n",
    "\"\"\"\n",
    "multi line string (Triple quotes) can be used and place your coments inside\n",
    "\"\"\"\n",
    "print ('I love maths')"
   ]
  },
  {
   "cell_type": "code",
   "execution_count": 28,
   "id": "8ebe9efd-0864-4537-9337-41f0ad64c5ca",
   "metadata": {},
   "outputs": [
    {
     "name": "stdout",
     "output_type": "stream",
     "text": [
      "3\n",
      "3\n",
      "3.0\n",
      "<class 'str'> <class 'int'> <class 'float'>\n"
     ]
    }
   ],
   "source": [
    "#casting (This is specifing the data type of a variable)\n",
    "x = str(3) #string\n",
    "y = int(3) #integer\n",
    "z= float(3) #decimal\n",
    "print(x)\n",
    "print(y)\n",
    "print(z)\n",
    "#get the type\n",
    "print (type(x), type(y), type(z))"
   ]
  },
  {
   "cell_type": "code",
   "execution_count": 30,
   "id": "2e142cfd-2b6d-461d-996c-6765c4ebc984",
   "metadata": {},
   "outputs": [
    {
     "name": "stdout",
     "output_type": "stream",
     "text": [
      "5 9\n"
     ]
    }
   ],
   "source": [
    "#strings can be declared either by using single or double quotes\n",
    "#case sensitive\n",
    "a = 5\n",
    "A = 9\n",
    "print(a, A) #A will note overwrite a"
   ]
  },
  {
   "cell_type": "code",
   "execution_count": 34,
   "id": "ff1fccf7-ad5c-41af-941e-2f8ad36302e6",
   "metadata": {},
   "outputs": [
    {
     "name": "stdout",
     "output_type": "stream",
     "text": [
      "Oranges\n",
      "Mangos\n",
      "Cherry\n"
     ]
    }
   ],
   "source": [
    "#multi value to multi variavles\n",
    "x, y, z = \"Oranges\", \"Mangos\", \"Cherry\"\n",
    "print(x)\n",
    "print(y)\n",
    "print(z)"
   ]
  },
  {
   "cell_type": "code",
   "execution_count": 36,
   "id": "bb0e3ab5-a3c3-490e-a700-1d3d17a14485",
   "metadata": {},
   "outputs": [
    {
     "name": "stdout",
     "output_type": "stream",
     "text": [
      "Oranges\n",
      "Oranges\n",
      "Oranges\n"
     ]
    }
   ],
   "source": [
    "#one value to multiple variables\n",
    "x = y = z = \"Oranges\"\n",
    "print(x)\n",
    "print(y)\n",
    "print(z)"
   ]
  },
  {
   "cell_type": "code",
   "execution_count": 38,
   "id": "baf97b62-f9b3-4ce6-b10b-e0f891ca46eb",
   "metadata": {},
   "outputs": [
    {
     "name": "stdout",
     "output_type": "stream",
     "text": [
      "Cherry\n",
      "Bananas\n",
      "Oranges\n"
     ]
    }
   ],
   "source": [
    "#Unpacking (when having a collection of variables in a list, python allowa you to extract the values into variables)\n",
    "fruits = [\"Oranges\", \"Bananas\", \"Cherry\"]\n",
    "x, y, x = fruits\n",
    "print(x)\n",
    "print(y)\n",
    "print(z)"
   ]
  },
  {
   "cell_type": "code",
   "execution_count": 44,
   "id": "f3d9dd78-7ad2-474e-8087-64eedce88ccd",
   "metadata": {},
   "outputs": [
    {
     "name": "stdout",
     "output_type": "stream",
     "text": [
      "python  is  Owesome\n",
      "python is Owesome\n",
      "13\n"
     ]
    }
   ],
   "source": [
    "#outping many variabes (with a comma(,) or +)\n",
    "x = \"python \"\n",
    "y = \"is \"\n",
    "z = \"Owesome\"\n",
    "print(x, y, z)\n",
    "print(x + y + z)\n",
    "#For number + chararcter is used as a mathematical operater\n",
    "x = 5\n",
    "y = 8\n",
    "print(x + y)"
   ]
  },
  {
   "cell_type": "code",
   "execution_count": 48,
   "id": "c04d75d5-ad51-4ed3-b6af-8107f94732c8",
   "metadata": {},
   "outputs": [
    {
     "name": "stdout",
     "output_type": "stream",
     "text": [
      "python is owesome\n"
     ]
    }
   ],
   "source": [
    "#Python Global variables\n",
    "#Global varaiables are variables created outside of a function\n",
    "# Global variables can be used inside of a function or outside\n",
    "#Example of a global variable used inside of a function\n",
    "x = \"owesome\"\n",
    "def myfunc():\n",
    "    print (\"python is \" + x)\n",
    "    \n",
    "myfunc()"
   ]
  },
  {
   "cell_type": "code",
   "execution_count": 1,
   "id": "069d2f6d-6975-42ec-84a5-87cc3a886420",
   "metadata": {},
   "outputs": [
    {
     "name": "stdout",
     "output_type": "stream",
     "text": [
      "Python is fantastic\n",
      "Python is awesome\n",
      "Python is fantastic\n",
      "Python is fantastic\n"
     ]
    }
   ],
   "source": [
    "# If you create a variable with the same name inside a function, this variable will be local, and can only be used inside the function.\n",
    "#The global variable with the same name will remain as it was, global and with the original value.\n",
    "x = \"awesome\" #global variable\n",
    "\n",
    "def myfunc():\n",
    "  x = \"fantastic\" #local variable\n",
    "  print(\"Python is \" + x)\n",
    "\n",
    "myfunc()\n",
    "\n",
    "print(\"Python is \" + x)\n",
    "\n",
    "#global key word (To use a global function inside a function we use the global key word)\n",
    "def myfunc():\n",
    "  global x\n",
    "  x = \"fantastic\"\n",
    "\n",
    "myfunc()\n",
    "\n",
    "print(\"Python is \" + x)\n",
    "\n",
    "#Also, use the global keyword if you want to change a global variable inside a function.\n",
    "x = \"awesome\"\n",
    "\n",
    "def myfunc():\n",
    "  global x\n",
    "  x = \"fantastic\"\n",
    "\n",
    "myfunc()\n",
    "\n",
    "print(\"Python is \" + x)"
   ]
  },
  {
   "cell_type": "code",
   "execution_count": 2,
   "id": "a14c2c53-11fd-42d9-95c5-69995594582c",
   "metadata": {},
   "outputs": [
    {
     "data": {
      "text/plain": [
       "3"
      ]
     },
     "execution_count": 2,
     "metadata": {},
     "output_type": "execute_result"
    }
   ],
   "source": [
    "#Python Data Types\n",
    "#there are many inbult data type for variables\n",
    "# Python the data type is set when you assign value to a variable\n",
    "# When you want to assign a specific data type to a variable use the data type of the varaiable wile assaingong eg\n",
    "x = int(3)\n",
    "x"
   ]
  },
  {
   "cell_type": "code",
   "execution_count": 2,
   "id": "9409ce75-d32f-4eca-9b90-6e6d62cad05c",
   "metadata": {},
   "outputs": [
    {
     "data": {
      "text/plain": [
       "(5+0j)"
      ]
     },
     "execution_count": 2,
     "metadata": {},
     "output_type": "execute_result"
    }
   ],
   "source": [
    "#python Numbers\n",
    "# There are there numerics in python, int, float and complex\n",
    "x = complex(5)\n",
    "x"
   ]
  },
  {
   "cell_type": "code",
   "execution_count": 2,
   "id": "9bda0a41-e864-4f18-954b-2ee00d17c946",
   "metadata": {},
   "outputs": [
    {
     "name": "stdout",
     "output_type": "stream",
     "text": [
      "11\n"
     ]
    }
   ],
   "source": [
    "import random\n",
    "print(random.randrange(1,20))"
   ]
  },
  {
   "cell_type": "code",
   "execution_count": 3,
   "id": "3e32c2bb-fc33-494e-9060-87d5c4fe4b81",
   "metadata": {},
   "outputs": [
    {
     "name": "stdout",
     "output_type": "stream",
     "text": [
      "8\n"
     ]
    }
   ],
   "source": [
    "import random\n",
    "\n",
    "print(random.randrange(1, 10))"
   ]
  },
  {
   "cell_type": "code",
   "execution_count": null,
   "id": "8fcc9a08-d215-464e-a8fb-598d765951ce",
   "metadata": {},
   "outputs": [],
   "source": []
  }
 ],
 "metadata": {
  "kernelspec": {
   "display_name": "Python 3 (ipykernel)",
   "language": "python",
   "name": "python3"
  },
  "language_info": {
   "codemirror_mode": {
    "name": "ipython",
    "version": 3
   },
   "file_extension": ".py",
   "mimetype": "text/x-python",
   "name": "python",
   "nbconvert_exporter": "python",
   "pygments_lexer": "ipython3",
   "version": "3.11.7"
  }
 },
 "nbformat": 4,
 "nbformat_minor": 5
}
