{
 "cells": [
  {
   "cell_type": "code",
   "execution_count": null,
   "id": "fa8570ee-c869-4d81-834d-c3e52d80b82b",
   "metadata": {},
   "outputs": [],
   "source": [
    "name = input(\"What is your name:\" )\n",
    "print(name)\n",
    "favorite_color = input(name + \" What is your favorite color:\" )\n",
    "print( name + \" favorite c0lor is \" + favorite_color )\n"
   ]
  },
  {
   "cell_type": "code",
   "execution_count": null,
   "id": "f936f40c-06cb-46ad-b9cb-6376244d3098",
   "metadata": {},
   "outputs": [],
   "source": [
    "birth_year = input(\"What is your birth year:\" )\n",
    "age = 2024 - int(birth_year)\n",
    "print(age)"
   ]
  },
  {
   "cell_type": "code",
   "execution_count": 11,
   "id": "a4cc1f25-9ab6-47c4-bcd0-3b6fbce4b91d",
   "metadata": {},
   "outputs": [
    {
     "name": "stdin",
     "output_type": "stream",
     "text": [
      "Hellow fill in your weight: 100\n"
     ]
    },
    {
     "name": "stdout",
     "output_type": "stream",
     "text": [
      "45.3592\n"
     ]
    }
   ],
   "source": [
    "pound_weight = input(\"Hellow fill in your weight:\" )\n",
    "kg_weight = int(pound_weight) * 0.453592\n",
    "print(kg_weight)"
   ]
  },
  {
   "cell_type": "code",
   "execution_count": 13,
   "id": "c2deefd7-ce59-40a9-a3ca-1935549698fa",
   "metadata": {},
   "outputs": [
    {
     "name": "stdout",
     "output_type": "stream",
     "text": [
      "Stanle\n"
     ]
    }
   ],
   "source": [
    "name = \"Stanley mugo\"\n",
    "print(name[0:6])"
   ]
  },
  {
   "cell_type": "code",
   "execution_count": 14,
   "id": "b6d7bc73-ce7e-4361-821a-a84eac8d25cc",
   "metadata": {},
   "outputs": [
    {
     "name": "stdout",
     "output_type": "stream",
     "text": [
      "eniffe\n"
     ]
    }
   ],
   "source": [
    "name = \"jeniffer\"\n",
    "print(name[1:-1])"
   ]
  },
  {
   "cell_type": "code",
   "execution_count": 19,
   "id": "30d7aab9-d8d9-4fb6-abb5-c6e465006be2",
   "metadata": {},
   "outputs": [
    {
     "name": "stdout",
     "output_type": "stream",
     "text": [
      "10\n",
      "STATISTICS\n",
      "statistics\n"
     ]
    }
   ],
   "source": [
    "course = \"Statistics\"\n",
    "print(len(course))\n",
    "print(course.upper())\n",
    "print(course.lower())"
   ]
  },
  {
   "cell_type": "code",
   "execution_count": 5,
   "id": "65923f82-8573-4261-9d0c-d7b903977207",
   "metadata": {},
   "outputs": [
    {
     "name": "stdout",
     "output_type": "stream",
     "text": [
      "1\n",
      "2 3\n",
      "4 5 6\n",
      "7 8 9 10\n"
     ]
    }
   ],
   "source": [
    "print(1)\n",
    "print(2, 3)\n",
    "print(4, 5, 6)\n",
    "print(7, 8, 9, 10)"
   ]
  },
  {
   "cell_type": "code",
   "execution_count": 8,
   "id": "b9778b90-9e17-48ef-a96f-a77e622c2d36",
   "metadata": {},
   "outputs": [
    {
     "name": "stdin",
     "output_type": "stream",
     "text": [
      "What your name: Stanley\n"
     ]
    },
    {
     "name": "stdout",
     "output_type": "stream",
     "text": [
      " Good morning,\n",
      "Dear print(x),\n",
      "thank you for using our services,\n",
      "\n",
      "regards\n",
      "Manager\n",
      "\n"
     ]
    }
   ],
   "source": [
    "x = input(\"What your name:\" ) \n",
    "x\n",
    "A = \"\"\" Good morning,\n",
    "Dear print(x),\n",
    "thank you for using our services,\n",
    "\n",
    "regards\n",
    "Manager\n",
    "\"\"\"\n",
    "print(A)"
   ]
  },
  {
   "cell_type": "code",
   "execution_count": 18,
   "id": "64bfdb92-a345-4536-9929-1df912c63742",
   "metadata": {},
   "outputs": [
    {
     "name": "stdout",
     "output_type": "stream",
     "text": [
      "hello world\n",
      "11\n"
     ]
    }
   ],
   "source": [
    "x = \"hello world\"\n",
    "print(x[:])\n",
    "print(len(x))"
   ]
  },
  {
   "cell_type": "code",
   "execution_count": 17,
   "id": "8be3884c-0b93-448b-bfc5-d3e0ec9e626d",
   "metadata": {},
   "outputs": [
    {
     "name": "stdout",
     "output_type": "stream",
     "text": [
      "b\n",
      "a\n",
      "n\n",
      "a\n",
      "n\n",
      "a\n"
     ]
    }
   ],
   "source": [
    "for x in \"banana\":\n",
    "    print(x)"
   ]
  },
  {
   "cell_type": "code",
   "execution_count": 29,
   "id": "07df7796-fc6d-4510-90b1-308abc97a1df",
   "metadata": {},
   "outputs": [
    {
     "name": "stdout",
     "output_type": "stream",
     "text": [
      "yes 'guy' is in the phrase x!\n"
     ]
    }
   ],
   "source": [
    "x = \"Stanley is a good guy\"\n",
    "if \"guy\" in x:\n",
    "    print(\"yes 'guy' is in the phrase x!\")\n"
   ]
  },
  {
   "cell_type": "code",
   "execution_count": 35,
   "id": "1bc2a2f9-ebbe-4161-b76b-afdc27dd9551",
   "metadata": {},
   "outputs": [
    {
     "name": "stdout",
     "output_type": "stream",
     "text": [
      "Enjoy your day\n"
     ]
    }
   ],
   "source": [
    "is_hot = False\n",
    "is_cold = False\n",
    "if is_hot:\n",
    "    print(\"its a hort day\")\n",
    "    print('drink some water')\n",
    "elif is_cold:\n",
    "    print(\"its a cold day\")\n",
    "    print(\"wear warm clothes\")    \n",
    "else:\n",
    "    print(\"Enjoy your day\")"
   ]
  },
  {
   "cell_type": "code",
   "execution_count": 1,
   "id": "3e30b830-45b8-43bb-bb2a-3097bc4b130b",
   "metadata": {},
   "outputs": [
    {
     "name": "stdout",
     "output_type": "stream",
     "text": [
      "anl\n"
     ]
    }
   ],
   "source": [
    "a = \"stanley Mugo\"\n",
    "print(a[2:5])"
   ]
  },
  {
   "cell_type": "code",
   "execution_count": 2,
   "id": "c01016af-48e5-498f-8085-595a7cb5e321",
   "metadata": {},
   "outputs": [
    {
     "name": "stdout",
     "output_type": "stream",
     "text": [
      "stanley Gugo\n"
     ]
    }
   ],
   "source": [
    "print(a.replace(\"M\", \"G\"))"
   ]
  },
  {
   "cell_type": "code",
   "execution_count": 3,
   "id": "66c47766-755a-496c-932b-c137b71f4097",
   "metadata": {},
   "outputs": [
    {
     "name": "stdout",
     "output_type": "stream",
     "text": [
      "['stanley Mugo']\n"
     ]
    }
   ],
   "source": [
    "print(a.split(\",\"))"
   ]
  },
  {
   "cell_type": "code",
   "execution_count": 4,
   "id": "548a4909-e6ff-4b17-bb47-162d158883bb",
   "metadata": {},
   "outputs": [
    {
     "name": "stdout",
     "output_type": "stream",
     "text": [
      "stanley Mugo\n"
     ]
    }
   ],
   "source": [
    "print(a.strip())"
   ]
  },
  {
   "cell_type": "code",
   "execution_count": 6,
   "id": "312411b5-3701-46ae-b73a-c52382fdba85",
   "metadata": {},
   "outputs": [
    {
     "name": "stdout",
     "output_type": "stream",
     "text": [
      "stanley mugo\n",
      "STANLEY MUGO\n",
      "Stanley Mugo\n"
     ]
    }
   ],
   "source": [
    "print(a.lower())\n",
    "print(a.upper())\n",
    "print(a.title())"
   ]
  },
  {
   "cell_type": "code",
   "execution_count": 10,
   "id": "58a60668-a64b-4673-b243-c22b5020b1d7",
   "metadata": {},
   "outputs": [
    {
     "name": "stdout",
     "output_type": "stream",
     "text": [
      "Stanley Gicharu Mugo\n",
      "Stanley Gicharu Mugo\n"
     ]
    }
   ],
   "source": [
    "a = \"Stanley\"\n",
    "b = \"Gicharu\"\n",
    "c = \"Mugo\"\n",
    "print(a+\" \"+b + \" \"+c)\n",
    "d =  a+\" \"+b + \" \"+c\n",
    "print(d)"
   ]
  },
  {
   "cell_type": "code",
   "execution_count": 11,
   "id": "1774e332-7130-4572-8092-254c542d253a",
   "metadata": {},
   "outputs": [
    {
     "name": "stdout",
     "output_type": "stream",
     "text": [
      "Stanley is 6\n"
     ]
    }
   ],
   "source": [
    "x = \"Stanley is \"\n",
    "y = str(6)\n",
    "print( x + y)"
   ]
  },
  {
   "cell_type": "code",
   "execution_count": 13,
   "id": "9097bc79-59fc-4083-a664-041a5b9d1b18",
   "metadata": {},
   "outputs": [
    {
     "name": "stdout",
     "output_type": "stream",
     "text": [
      "In august i will be turning 24\n"
     ]
    }
   ],
   "source": [
    "x = 24\n",
    "y = \"In august i will be turning {}\"\n",
    "print(y.format(x))"
   ]
  },
  {
   "cell_type": "code",
   "execution_count": 15,
   "id": "e443eea4-c64a-4d34-84ac-6c79e8b6b9fa",
   "metadata": {},
   "outputs": [
    {
     "ename": "NameError",
     "evalue": "name 'center' is not defined",
     "output_type": "error",
     "traceback": [
      "\u001b[1;31m---------------------------------------------------------------------------\u001b[0m",
      "\u001b[1;31mNameError\u001b[0m                                 Traceback (most recent call last)",
      "Cell \u001b[1;32mIn[15], line 2\u001b[0m\n\u001b[0;32m      1\u001b[0m a \u001b[38;5;241m=\u001b[39m \u001b[38;5;124m\"\u001b[39m\u001b[38;5;124mStanley\u001b[39m\u001b[38;5;124m\"\u001b[39m\n\u001b[1;32m----> 2\u001b[0m \u001b[38;5;28mprint\u001b[39m(center(a))\n",
      "\u001b[1;31mNameError\u001b[0m: name 'center' is not defined"
     ]
    }
   ],
   "source": [
    "a = \"Stanley\"\n",
    "print(center(a))"
   ]
  },
  {
   "cell_type": "code",
   "execution_count": null,
   "id": "205b83cc-b047-45d5-aca7-10b905d212d8",
   "metadata": {},
   "outputs": [],
   "source": []
  }
 ],
 "metadata": {
  "kernelspec": {
   "display_name": "Python 3 (ipykernel)",
   "language": "python",
   "name": "python3"
  },
  "language_info": {
   "codemirror_mode": {
    "name": "ipython",
    "version": 3
   },
   "file_extension": ".py",
   "mimetype": "text/x-python",
   "name": "python",
   "nbconvert_exporter": "python",
   "pygments_lexer": "ipython3",
   "version": "3.11.7"
  }
 },
 "nbformat": 4,
 "nbformat_minor": 5
}
